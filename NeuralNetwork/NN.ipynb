{
 "cells": [
  {
   "cell_type": "code",
   "execution_count": 29,
   "metadata": {},
   "outputs": [],
   "source": [
    "import numpy as np\n",
    "import matplotlib.pyplot as plt\n",
    "from mlxtend.plotting import plot_decision_regions\n",
    "\n",
    "\n",
    "from sklearn.datasets import make_classification, load_iris\n",
    "from sklearn.model_selection import train_test_split"
   ]
  },
  {
   "cell_type": "code",
   "execution_count": 30,
   "metadata": {},
   "outputs": [],
   "source": [
    "X, y = make_classification(n_samples=100, n_features=3, n_classes=3, n_redundant=0, n_repeated=0, n_informative=3)\n",
    "y = y"
   ]
  },
  {
   "cell_type": "code",
   "execution_count": 31,
   "metadata": {},
   "outputs": [],
   "source": [
    "X, y = load_iris(return_X_y=True)\n",
    "X = X[:, [0, 2]]"
   ]
  },
  {
   "cell_type": "code",
   "execution_count": 32,
   "metadata": {},
   "outputs": [
    {
     "data": {
      "image/png": "[encoded data removed]",
      "text/plain": [
       "<Figure size 432x288 with 1 Axes>"
      ]
     },
     "metadata": {
      "needs_background": "light"
     },
     "output_type": "display_data"
    }
   ],
   "source": [
    "for i in range(len(np.unique(y))):\n",
    "    plt.scatter(X[:, 0][y == i], X[:, 1][y == i])\n",
    "plt.show()"
   ]
  },
  {
   "cell_type": "code",
   "execution_count": 33,
   "metadata": {},
   "outputs": [],
   "source": [
    "def encode_y(y):\n",
    "    n = np.max(y) + 1\n",
    "    m = y.shape[0]\n",
    "    y_encoded = np.zeros((m, n))\n",
    "    for i, y_ in enumerate(y):\n",
    "        y_encoded[i, y_] = 1\n",
    "    return y_encoded"
   ]
  },
  {
   "cell_type": "code",
   "execution_count": 34,
   "metadata": {},
   "outputs": [],
   "source": [
    "y_encoded = encode_y(y)"
   ]
  },
  {
   "cell_type": "code",
   "execution_count": 35,
   "metadata": {},
   "outputs": [],
   "source": [
    "X_train, X_test, y_train, y_test = train_test_split(X, y_encoded, test_size=0.3, stratify=y)"
   ]
  },
  {
   "cell_type": "markdown",
   "metadata": {},
   "source": [
    "# Idea of Neural Network"
   ]
  },
  {
   "cell_type": "markdown",
   "metadata": {},
   "source": [
    "# Implementation"
   ]
  },
  {
   "cell_type": "markdown",
   "metadata": {},
   "source": [
    "### Activation functions and loss function"
   ]
  },
  {
   "cell_type": "code",
   "execution_count": 36,
   "metadata": {},
   "outputs": [],
   "source": [
    "def accuracy(y_true, pred):\n",
    "    i = 0\n",
    "    j = 0\n",
    "    for pred_, y in zip(pred, y_true):\n",
    "        if np.argmax(y) == pred_:\n",
    "            i += 1\n",
    "        j += 1\n",
    "    return i / j"
   ]
  },
  {
   "cell_type": "code",
   "execution_count": 37,
   "metadata": {},
   "outputs": [],
   "source": [
    "def relu(x):\n",
    "    return np.maximum(0, x)\n",
    "\n",
    "\n",
    "def softmax(x):\n",
    "    z = np.exp(x - np.max(x))# shift values\n",
    "    return z / z.sum()\n",
    "\n",
    "def categorical_cross_entropy(y_true, y_pred):\n",
    "    return - np.sum(y_pred * np.log(y_true + 1e-9))"
   ]
  },
  {
   "cell_type": "markdown",
   "metadata": {},
   "source": [
    "### Derivatives"
   ]
  },
  {
   "cell_type": "code",
   "execution_count": 38,
   "metadata": {},
   "outputs": [],
   "source": [
    "def drelu(x):\n",
    "    return x"
   ]
  },
  {
   "cell_type": "markdown",
   "metadata": {},
   "source": [
    "# Batch generator"
   ]
  },
  {
   "cell_type": "markdown",
   "metadata": {},
   "source": [
    "### Neural Network"
   ]
  },
  {
   "cell_type": "markdown",
   "metadata": {},
   "source": [
    "# Train model"
   ]
  },
  {
   "cell_type": "code",
   "execution_count": 42,
   "metadata": {},
   "outputs": [],
   "source": [
    "model = NeuralNetwork(2, 3, [3, 4, 5])"
   ]
  },
  {
   "cell_type": "code",
   "execution_count": 43,
   "metadata": {},
   "outputs": [],
   "source": [
    "loss = model.fit(X_train, y_train, 0.001, 1000)"
   ]
  },
  {
   "cell_type": "code",
   "execution_count": 44,
   "metadata": {},
   "outputs": [
    {
     "data": {
      "image/png": "[encoded data removed]",
      "text/plain": [
       "<Figure size 432x288 with 1 Axes>"
      ]
     },
     "metadata": {
      "needs_background": "light"
     },
     "output_type": "display_data"
    }
   ],
   "source": [
    "plt.plot(range(len(loss)), loss)\n",
    "plt.show()"
   ]
  },
  {
   "cell_type": "code",
   "execution_count": 45,
   "metadata": {},
   "outputs": [
    {
     "data": {
      "text/plain": [
       "0.3333333333333333"
      ]
     },
     "execution_count": 45,
     "metadata": {},
     "output_type": "execute_result"
    }
   ],
   "source": [
    "pred = model.predict(X_test)\n",
    "accuracy(y_test, pred)"
   ]
  },
  {
   "cell_type": "code",
   "execution_count": 140,
   "metadata": {},
   "outputs": [
    {
     "ename": "ValueError",
     "evalue": "Filler values must be provided when X has more than 2 training features.",
     "output_type": "error",
     "traceback": [
      "\u001b[1;31m---------------------------------------------------------------------------\u001b[0m",
      "\u001b[1;31mValueError\u001b[0m                                Traceback (most recent call last)",
      "\u001b[1;32m<ipython-input-140-c8a83db54b19>\u001b[0m in \u001b[0;36m<module>\u001b[1;34m\u001b[0m\n\u001b[1;32m----> 1\u001b[1;33m \u001b[0mplot_decision_regions\u001b[0m\u001b[1;33m(\u001b[0m\u001b[0mX\u001b[0m\u001b[1;33m,\u001b[0m \u001b[0my\u001b[0m\u001b[1;33m,\u001b[0m \u001b[0mmodel\u001b[0m\u001b[1;33m)\u001b[0m\u001b[1;33m\u001b[0m\u001b[1;33m\u001b[0m\u001b[0m\n\u001b[0m\u001b[0;32m      2\u001b[0m \u001b[0mplt\u001b[0m\u001b[1;33m.\u001b[0m\u001b[0mshow\u001b[0m\u001b[1;33m(\u001b[0m\u001b[1;33m)\u001b[0m\u001b[1;33m\u001b[0m\u001b[1;33m\u001b[0m\u001b[0m\n",
      "\u001b[1;32m~\\anaconda3\\envs\\Kurs\\lib\\site-packages\\mlxtend\\plotting\\decision_regions.py\u001b[0m in \u001b[0;36mplot_decision_regions\u001b[1;34m(X, y, clf, feature_index, filler_feature_values, filler_feature_ranges, ax, X_highlight, res, zoom_factor, legend, hide_spines, markers, colors, scatter_kwargs, contourf_kwargs, scatter_highlight_kwargs)\u001b[0m\n\u001b[0;32m    176\u001b[0m     \u001b[1;32mif\u001b[0m \u001b[0mdim\u001b[0m \u001b[1;33m>\u001b[0m \u001b[1;36m2\u001b[0m\u001b[1;33m:\u001b[0m\u001b[1;33m\u001b[0m\u001b[1;33m\u001b[0m\u001b[0m\n\u001b[0;32m    177\u001b[0m         \u001b[1;32mif\u001b[0m \u001b[0mfiller_feature_values\u001b[0m \u001b[1;32mis\u001b[0m \u001b[1;32mNone\u001b[0m\u001b[1;33m:\u001b[0m\u001b[1;33m\u001b[0m\u001b[1;33m\u001b[0m\u001b[0m\n\u001b[1;32m--> 178\u001b[1;33m             raise ValueError('Filler values must be provided when '\n\u001b[0m\u001b[0;32m    179\u001b[0m                              'X has more than 2 training features.')\n\u001b[0;32m    180\u001b[0m \u001b[1;33m\u001b[0m\u001b[0m\n",
      "\u001b[1;31mValueError\u001b[0m: Filler values must be provided when X has more than 2 training features."
     ]
    },
    {
     "data": {
      "image/png": "[encoded data removed]",
      "text/plain": [
       "<Figure size 432x288 with 1 Axes>"
      ]
     },
     "metadata": {
      "needs_background": "light"
     },
     "output_type": "display_data"
    }
   ],
   "source": [
    "plot_decision_regions(X, y, model)\n",
    "plt.show()"
   ]
  },
  {
   "cell_type": "code",
   "execution_count": 141,
   "metadata": {},
   "outputs": [
    {
     "data": {
      "text/plain": [
       "{'w_0': array([[-0.5600214 , -1.1920798 , -0.27402397,  0.24352553, -0.01576522,\n",
       "          0.11187683, -1.05540778,  0.67700882,  0.95299659,  0.42054389,\n",
       "         -0.37660538,  0.96753745, -0.47457234, -0.51390312, -0.14059497,\n",
       "         -0.22339008, -0.17585238, -0.02828286,  0.82875972, -0.63466857,\n",
       "          0.5584648 , -0.12154471,  0.61319126,  0.39027197, -0.67611713,\n",
       "         -0.05727763,  0.41519592,  0.05268767,  0.0522025 , -0.04363303,\n",
       "          0.62804337,  0.96394853, -1.19611261,  0.64755303,  0.52315928,\n",
       "         -0.40817206,  0.57905357, -0.7023652 ,  0.62576287, -1.09089999,\n",
       "         -0.15035463, -0.45635925,  0.25650549,  0.01327063,  0.62085691,\n",
       "          1.10419741, -0.64115194,  0.29339918,  0.82755466, -0.25591208,\n",
       "          0.65253143, -0.51714231, -0.10747578, -0.42060153,  0.50344692,\n",
       "         -1.01784954,  1.35500763,  0.14525931,  1.34088108, -0.4911115 ,\n",
       "          1.75681169,  0.32712031, -0.79819177, -0.8260988 ,  0.47198072,\n",
       "          0.92125196, -0.29486351, -0.82873879,  0.20003052,  0.14830029,\n",
       "         -2.18809785, -0.13530741, -0.2423949 , -1.04796663,  0.54643786,\n",
       "         -0.83479809, -0.23632481,  1.40406065,  1.47068504, -0.9268786 ,\n",
       "         -0.84162271, -1.1407476 , -0.01787827,  0.50508836,  0.32129115,\n",
       "          0.94906079,  2.03742967,  0.67980362, -1.17267614, -0.28087058,\n",
       "          1.70642926, -0.36143886,  0.63422982, -1.66456368,  0.73415277,\n",
       "         -2.31616741,  0.04434366,  0.68693989, -0.35675499, -0.78442164,\n",
       "          0.57639619,  0.89831486,  0.4603744 ,  0.2593511 , -1.4184332 ,\n",
       "         -0.77265267,  0.42296221, -0.9792077 ,  0.07910596,  1.8670233 ,\n",
       "         -0.48673479, -1.30390837,  0.15089675,  0.26567249,  0.45797222,\n",
       "          0.23144663, -0.94374474,  1.55482999, -0.1410754 ,  0.51508819,\n",
       "         -0.69022836,  0.4211545 , -0.77954472, -0.35097627,  0.37136667,\n",
       "          1.24241052,  0.72375093,  0.25384238],\n",
       "        [ 0.48502139, -1.2800771 ,  1.70650849, -0.50762411,  0.37329876,\n",
       "         -0.36275752, -0.8057628 , -0.49123048,  0.00350995, -1.55260398,\n",
       "          0.90511245,  0.53472164, -0.1574175 , -0.49605584, -0.12958492,\n",
       "          0.09852743, -0.09889726,  0.55130515,  0.35033742,  1.48579795,\n",
       "         -0.43706587, -0.55190997,  0.6138704 ,  0.00468091, -0.92254802,\n",
       "          1.32219637,  1.66316859, -1.32220482, -0.44904272,  0.18557964,\n",
       "          0.28010316,  0.70027054, -0.49009747,  0.61880493, -1.24105362,\n",
       "          0.73975952, -0.90272122,  0.16199196, -1.64757134, -0.2448106 ,\n",
       "         -0.38824057,  0.60143644, -0.53566237, -0.3404209 ,  1.25818632,\n",
       "          0.45943107,  0.50012537, -0.39624103,  0.4364542 , -0.49422285,\n",
       "          1.37998239,  0.94068003, -0.08500519,  1.4926051 , -0.70676212,\n",
       "          1.0360508 ,  0.69233865,  1.26443104,  0.38544557,  0.39493498,\n",
       "          0.51833204,  0.09398177, -0.00330188, -0.503285  ,  0.98829008,\n",
       "          0.19392336,  1.20302199,  1.11077552, -0.76376883, -0.44949265,\n",
       "         -1.3819041 ,  0.21379358, -0.07325979,  0.26429767, -0.66627621,\n",
       "          0.98242232,  0.82333749, -0.25372759,  0.43216824,  0.06002327,\n",
       "          0.56564167, -0.0057686 ,  0.5904838 , -1.63145687, -1.42498492,\n",
       "          0.10081511,  0.56268829,  0.54295176,  1.06025331, -0.55529372,\n",
       "         -0.59198381, -0.67903513,  0.7599298 ,  0.01776513, -0.28058962,\n",
       "          1.1891641 , -1.4144989 ,  0.58823427,  0.0757629 ,  1.07902327,\n",
       "         -1.32780232, -0.65829838,  0.34661047, -0.28472799, -1.06086356,\n",
       "          0.29935047,  0.86520221,  1.71757953,  1.18358289,  1.20172167,\n",
       "         -0.09893022,  1.00179155,  0.78469421, -0.15273401,  0.38686641,\n",
       "          0.53672903,  0.40350239,  0.0801183 , -0.40082036,  0.09902462,\n",
       "          0.89970351,  0.70614177,  0.97367925, -1.05006824, -0.41679375,\n",
       "         -1.09835732, -0.00688762,  0.57537336],\n",
       "        [-0.970961  , -2.20250942, -0.87135472,  0.24656842,  0.7564021 ,\n",
       "          0.52695218, -0.22911184,  0.5406742 ,  0.26035572,  0.15581983,\n",
       "         -0.52620916,  0.03982363,  0.64610366,  1.40680716,  0.32391999,\n",
       "         -0.5668525 ,  0.67915009,  0.0427431 ,  0.25161254, -0.88635032,\n",
       "         -0.02898406,  0.20659481,  0.56357166, -0.58065487, -0.60606128,\n",
       "         -0.12233583,  0.28897403,  0.62911523, -0.5779503 , -0.27662615,\n",
       "          0.11442548,  1.25889554,  0.76761759, -1.24973403, -0.9088325 ,\n",
       "         -0.21350714, -0.50840717,  0.80596345,  0.2624372 ,  0.23808744,\n",
       "         -0.7362105 , -0.13888676, -0.18238201, -1.24495872, -0.69085219,\n",
       "         -1.05738676, -0.47359803, -0.0273049 ,  0.0420596 , -1.61719187,\n",
       "          0.24380562, -0.88219627,  0.58100956, -0.27603329,  0.65067281,\n",
       "         -1.34514857, -0.58083332,  1.96495   ,  1.77077349,  0.6907928 ,\n",
       "         -0.45154753,  1.32582097,  1.31445842, -0.013045  , -0.59883628,\n",
       "          0.61885597, -0.92671829, -0.48651526, -0.30073025, -0.65041602,\n",
       "         -0.31866668, -1.25018212,  1.02997611,  0.79376201,  0.71213929,\n",
       "         -0.21230832, -0.25546132,  1.42221892,  0.13590392, -1.16935245,\n",
       "         -1.12742746,  1.52871413, -0.5978879 , -0.39465546, -0.30723953,\n",
       "         -0.4242692 ,  0.67249555, -2.10870693,  0.35144726, -0.37814163,\n",
       "          0.09832577, -0.22396875, -1.53112027,  0.64429107,  0.88323854,\n",
       "         -0.46980916, -0.4707845 ,  0.69618638, -0.60219623, -0.15367365,\n",
       "         -0.72437682,  0.56130079, -0.70240374, -0.4786767 ,  0.41220271,\n",
       "          1.33649124, -1.03422898, -0.59632013, -0.10276138, -0.77294597,\n",
       "         -2.24040037, -0.6293493 , -0.09288471,  0.74619378, -1.50293382,\n",
       "          0.3487873 ,  1.38553487,  0.24866477, -0.64769526,  0.30493719,\n",
       "         -0.27670634,  0.48728728,  1.13454783,  0.31809268,  0.59845331,\n",
       "         -0.95592192,  0.11568773,  0.24738355]]),\n",
       " 'b_0': array([[-0.09081763,  0.97998237,  0.29928559,  0.92458723, -1.40971343,\n",
       "         -0.07120111,  0.44841905,  0.60656642,  0.70398286, -1.20888771,\n",
       "         -0.52385979, -1.49971652, -0.34982604,  0.89988211,  0.07540287,\n",
       "          0.91247341,  1.48126903, -0.98845654, -0.97487748, -0.15083603,\n",
       "         -0.27462303,  0.66753432, -1.11255456, -0.85323873, -0.42667871,\n",
       "          0.81481977, -0.17768098,  0.88704998, -1.10743332,  0.33323165,\n",
       "          1.0845281 ,  0.75754119,  0.52094608,  1.3015552 , -0.42985044,\n",
       "         -0.79794966, -0.57245367,  0.37544042,  0.40508673, -0.32780541,\n",
       "         -0.11793267,  0.62503626,  0.64698758, -0.59561467,  0.13829654,\n",
       "          0.94147899, -0.00626002,  0.80413782,  0.72556069,  0.34511348,\n",
       "          0.25712755,  0.39443736,  0.59696311, -0.28384079, -0.24503791,\n",
       "         -0.10809761,  0.47838762, -1.47429153, -0.00378654, -0.11847746,\n",
       "         -0.3303408 , -1.58699068, -0.56284623, -1.24307325, -0.71700783,\n",
       "         -0.43922074, -0.26722807,  0.15685854,  0.93898993, -1.06686501,\n",
       "         -0.04168008,  0.61150489, -0.2933583 , -1.29627356,  0.43148898,\n",
       "         -0.06862939, -0.62501803, -1.10144562,  1.66701298,  0.45485015,\n",
       "          0.6203294 ,  1.13633898, -0.97773601,  0.86858586, -1.30597547,\n",
       "         -1.24511567,  2.22037069,  0.16016304, -0.20494397, -1.61999628,\n",
       "          0.85822036, -0.31107337,  1.7332983 , -0.6928425 , -1.97919729,\n",
       "         -0.79885338, -0.61938092,  0.116733  ,  0.11117187, -0.99247689,\n",
       "          0.01091133, -0.865957  , -0.34442934, -0.04947554,  0.37340262,\n",
       "         -1.26466206,  0.43109821, -0.12766892, -0.43068782,  0.92067282,\n",
       "          0.03015028, -0.7695686 ,  0.51509708, -0.76688141, -0.80929361,\n",
       "         -0.01099537, -0.03198641, -0.22860042,  1.25673659,  0.20082885,\n",
       "         -0.67397138,  0.63611084,  0.78515741, -0.02994478,  0.98613679,\n",
       "         -0.50695588,  0.6123602 ,  0.94872084]]),\n",
       " 'w_1': array([[-0.02597848,  0.14715539,  0.07033147, ...,  0.20768175,\n",
       "         -0.06615554,  0.02593697],\n",
       "        [-0.21878   , -0.01546263,  0.02737033, ...,  0.21623402,\n",
       "          0.13341676, -0.20806287],\n",
       "        [-0.00715521,  0.13505506, -0.00100446, ...,  0.01670013,\n",
       "         -0.14477629,  0.03067268],\n",
       "        ...,\n",
       "        [ 0.02019163, -0.1248918 ,  0.03713545, ...,  0.05152737,\n",
       "          0.21621609, -0.00976167],\n",
       "        [-0.11519512, -0.08993068,  0.08314543, ...,  0.00926423,\n",
       "         -0.05366717, -0.00286669],\n",
       "        [-0.14678324, -0.13097011,  0.17197028, ..., -0.0940726 ,\n",
       "          0.08567728,  0.09736754]]),\n",
       " 'b_1': array([[ 0.27479423,  0.2085805 ,  0.05482107,  0.20528623,  0.03066348,\n",
       "         -0.08170011, -0.14043646,  0.02284486,  0.06890726,  0.1664502 ,\n",
       "          0.02247348,  0.03843759,  0.17836998, -0.10199297, -0.16008855,\n",
       "          0.27510661,  0.12409403,  0.17536922,  0.17358078, -0.02314655,\n",
       "         -0.03564888,  0.22333765,  0.24869379, -0.03199709, -0.12016349,\n",
       "         -0.04157139, -0.31728734, -0.01386375, -0.09895399,  0.17464269,\n",
       "         -0.07849043,  0.27459053, -0.05085342, -0.04921726,  0.0897864 ,\n",
       "          0.0855543 ,  0.09296363, -0.16270467,  0.23002969, -0.11593407,\n",
       "         -0.10546334,  0.28932376, -0.02623092, -0.17157848,  0.10500813,\n",
       "          0.15559466, -0.06049952, -0.16337798, -0.09978334,  0.15594248,\n",
       "          0.19943378, -0.08244372,  0.31318791,  0.12874083,  0.20501464,\n",
       "          0.01975595,  0.08188575, -0.09068382,  0.00451996,  0.12750603,\n",
       "          0.06045613,  0.06586122, -0.11146786, -0.01568891,  0.08738592,\n",
       "         -0.07869229,  0.06349301,  0.01086848,  0.01892034, -0.09593858,\n",
       "          0.13229881, -0.12713952, -0.06000502,  0.18434715, -0.07903563,\n",
       "         -0.02057241, -0.03057811,  0.06400819, -0.23229078,  0.07336375,\n",
       "         -0.0096408 , -0.03167903,  0.3157862 , -0.04896705, -0.07563647,\n",
       "          0.00122533, -0.2213052 ,  0.09529638,  0.07100406, -0.00607991,\n",
       "         -0.05962461, -0.17356298, -0.0270281 ,  0.11287322,  0.04706382,\n",
       "          0.15597699,  0.03336944,  0.02940974,  0.15320405, -0.02323793,\n",
       "         -0.13789888, -0.13195528, -0.03503894, -0.03465335,  0.05909236,\n",
       "         -0.14327907, -0.01161837,  0.07568805,  0.20571214, -0.14579968,\n",
       "          0.05199947, -0.23167096, -0.10632603, -0.09912287,  0.01020355,\n",
       "         -0.11441279, -0.1397934 , -0.08351849,  0.0624308 , -0.01564602,\n",
       "          0.11420666,  0.07418612,  0.07582032, -0.11449151,  0.03202231,\n",
       "         -0.16360082, -0.0175998 , -0.16537989, -0.13124251, -0.06885775,\n",
       "          0.12560766,  0.26264358,  0.1038726 , -0.17832645, -0.02714352,\n",
       "          0.1155854 , -0.07855159,  0.08732906,  0.03132881,  0.064623  ,\n",
       "          0.00044089, -0.0685593 , -0.12468691,  0.06618416, -0.01531625,\n",
       "          0.13175836, -0.01175264, -0.06296298, -0.06299336,  0.17983124,\n",
       "          0.04277078,  0.26900574,  0.09084963,  0.12992434,  0.1257809 ,\n",
       "         -0.07902572,  0.10419916,  0.0108736 ,  0.26011366, -0.17312193,\n",
       "         -0.12760285, -0.06521098, -0.02986639, -0.11472888, -0.06316522,\n",
       "         -0.29261278, -0.0241664 ,  0.22029031, -0.11198511, -0.05635529,\n",
       "          0.02268089, -0.33338676, -0.03691648,  0.01167305, -0.12342513,\n",
       "          0.05545732,  0.15410147,  0.09805705, -0.00862502,  0.04896823,\n",
       "          0.13492696, -0.06656336,  0.0166811 ,  0.11385741, -0.08555736,\n",
       "         -0.12422352,  0.07961399, -0.2443557 , -0.02438684,  0.04709536,\n",
       "         -0.09719266,  0.00766513, -0.07459594,  0.04544842, -0.12697578,\n",
       "          0.18118815, -0.14748932,  0.04927041,  0.03611308, -0.11786924,\n",
       "          0.01429738,  0.07036806,  0.07392854, -0.17490693, -0.18753212,\n",
       "          0.0402785 ,  0.01501306, -0.06587623, -0.09643042,  0.00998009,\n",
       "          0.03261949, -0.23504207, -0.00609326, -0.20309204,  0.07115804,\n",
       "          0.0700958 , -0.04830327,  0.36152247, -0.11597776,  0.01208941,\n",
       "          0.32247642,  0.08762964,  0.08756671, -0.00059531, -0.05812645,\n",
       "          0.1092101 ,  0.14639195, -0.08168266,  0.23958704,  0.13702741,\n",
       "         -0.18340445, -0.07004631,  0.0535902 , -0.17655338,  0.04144329,\n",
       "          0.01802973, -0.07237248,  0.01100282,  0.06759566,  0.0271336 ,\n",
       "         -0.01571232, -0.00451058, -0.17871058,  0.02905836,  0.09912605,\n",
       "         -0.05587374,  0.13471496,  0.13435908,  0.03664816, -0.16785853,\n",
       "          0.05206472, -0.01673267, -0.29296115, -0.1112472 ,  0.17296158,\n",
       "          0.09945789]]),\n",
       " 'w_2': array([[ 0.07689935,  0.1258741 ,  0.11432078, ..., -0.02540822,\n",
       "         -0.03916306,  0.04137956],\n",
       "        [ 0.12138767,  0.17477589, -0.13807064, ...,  0.12647238,\n",
       "         -0.04630883, -0.06941591],\n",
       "        [ 0.06436738,  0.14864269,  0.10349914, ...,  0.15197897,\n",
       "         -0.05928137, -0.19638415],\n",
       "        ...,\n",
       "        [ 0.07180581,  0.07410471,  0.06435774, ...,  0.02951831,\n",
       "          0.05684578,  0.29570479],\n",
       "        [-0.09588578, -0.02047171, -0.05422018, ..., -0.03429007,\n",
       "          0.18285985,  0.10743628],\n",
       "        [ 0.07937338,  0.02079978,  0.11244121, ...,  0.0665112 ,\n",
       "          0.102561  ,  0.18439258]]),\n",
       " 'b_2': array([[ 3.02845217e-02,  1.19321617e-01,  2.50277458e-01,\n",
       "         -3.55750974e-02,  2.63591661e-02, -1.64259034e-01,\n",
       "          1.65108291e-01,  7.45427399e-03, -9.37256926e-02,\n",
       "         -1.99633085e-02,  1.96368519e-04,  3.27174621e-02,\n",
       "         -1.86591695e-01,  5.52634139e-02, -4.41809632e-02,\n",
       "         -1.39729896e-01, -9.78520094e-02, -1.66982814e-01,\n",
       "          9.07841279e-02, -7.91523549e-02, -1.70901958e-01,\n",
       "          1.22534363e-02,  2.37661422e-02,  6.87606071e-02,\n",
       "         -9.38847867e-02, -1.30567366e-01, -9.77950731e-02,\n",
       "         -7.71334322e-03,  1.13915741e-01,  1.14336484e-01,\n",
       "         -6.91450972e-02, -7.24619845e-02, -7.87416881e-03,\n",
       "         -1.02369613e-01,  1.33298469e-02, -2.60115775e-02,\n",
       "         -9.29643143e-02,  1.69485351e-01, -6.38513987e-02,\n",
       "          9.08991219e-02,  1.39878830e-01, -2.52300451e-02,\n",
       "          9.53040764e-02,  1.38414122e-04,  5.13674405e-02,\n",
       "         -1.23679958e-01,  1.93915222e-01,  2.17076039e-02,\n",
       "          1.28764748e-01, -2.99642130e-03,  1.21116047e-01,\n",
       "          2.96254173e-03, -3.23776757e-02, -1.24876389e-01,\n",
       "         -8.55823568e-04,  3.52098523e-02, -9.20086840e-03,\n",
       "         -1.58592869e-01, -7.14125294e-02,  6.11129041e-02,\n",
       "          2.08695506e-01, -2.47279969e-02,  4.76749499e-02,\n",
       "          8.60365924e-02, -7.99610273e-02, -1.70169021e-01,\n",
       "         -4.25154742e-03, -4.23383681e-02,  7.41454068e-02,\n",
       "         -9.72944150e-02, -2.36696851e-01,  1.35000483e-01,\n",
       "          6.66531759e-02,  1.15888210e-01, -5.74122862e-02,\n",
       "         -1.76206385e-01, -1.71820121e-04, -1.58393255e-01,\n",
       "         -2.37562618e-02,  6.64824654e-02, -1.78172493e-01,\n",
       "          2.81607858e-02, -1.14584821e-01, -8.12084436e-02,\n",
       "         -1.02642985e-02, -8.99239110e-02,  1.17974286e-01,\n",
       "         -4.41784715e-02,  1.13119981e-01,  4.10409021e-02,\n",
       "          7.85080110e-02,  3.46342423e-02,  2.52427563e-01,\n",
       "         -1.13275212e-02, -7.82350130e-02, -3.31472510e-02,\n",
       "          7.14375890e-02,  2.18462975e-01,  1.41275990e-01,\n",
       "         -3.16676451e-02,  2.53487451e-02, -5.66295239e-02,\n",
       "          5.79461090e-02, -1.28196710e-01,  1.54533466e-02,\n",
       "         -4.40241542e-04, -1.50679540e-01,  6.77201006e-02,\n",
       "         -1.09643912e-01, -6.53706367e-02, -6.64190920e-03,\n",
       "         -8.41395769e-03,  6.42899604e-02, -1.53518759e-03,\n",
       "          3.70101015e-02,  1.95645432e-03,  1.13017131e-01,\n",
       "          1.40467834e-01,  8.57818390e-02, -9.07441141e-02,\n",
       "         -1.24008508e-01, -6.70767793e-02, -8.05276386e-02,\n",
       "         -3.55253949e-02,  4.57296213e-02, -1.61590789e-01,\n",
       "         -4.96172808e-02,  8.23786755e-02]]),\n",
       " 'w_out': array([[-1.38092617e-01,  4.93974701e-01, -3.61584249e-01],\n",
       "        [ 8.92298529e-02,  4.31120837e-02, -2.33833634e-02],\n",
       "        [ 8.57349157e-02, -1.11409663e-01, -7.97231651e-03],\n",
       "        [ 6.75567535e-02,  7.34555229e-02,  1.28363412e-01],\n",
       "        [ 1.14556206e-01,  3.83009183e-02,  1.86568912e-01],\n",
       "        [-7.12831213e-02, -1.71842011e-01,  2.53684476e-01],\n",
       "        [ 6.17789771e-02, -1.17648127e-01,  1.97210319e-01],\n",
       "        [ 2.48694792e-01,  1.02855017e-01, -2.07556298e-01],\n",
       "        [-8.66477471e-02, -9.48737814e-02,  3.49590753e-01],\n",
       "        [ 6.12395471e-02,  1.24087282e-01,  4.65655264e-02],\n",
       "        [-2.92605894e-02, -3.76460816e-01,  1.69167365e-01],\n",
       "        [ 9.36180044e-02,  1.64570600e-01,  1.19046722e-02],\n",
       "        [ 2.17915672e-01, -1.40785251e-01,  4.35649970e-01],\n",
       "        [-4.46149701e-01, -2.05745124e-01,  4.94141433e-01],\n",
       "        [ 3.93538027e-02,  2.57271114e-01, -2.75908024e-01],\n",
       "        [-8.70515932e-02,  2.88991723e-01, -7.42299657e-02],\n",
       "        [-2.01334108e-01,  2.50630322e-02,  4.06706039e-02],\n",
       "        [-4.09287253e-02, -5.85955110e-02, -1.55214757e-01],\n",
       "        [ 1.08976481e-01,  7.52795496e-02,  7.07611596e-02],\n",
       "        [ 7.36313748e-02, -2.07342360e-01, -8.82456729e-03],\n",
       "        [ 1.54533703e-02, -8.47450424e-03,  3.22039955e-01],\n",
       "        [ 2.25811616e-01, -3.38103573e-01, -1.19598333e-01],\n",
       "        [ 2.70519185e-01, -2.90041159e-01,  1.65039289e-02],\n",
       "        [ 2.17672537e-01,  8.19067379e-04, -1.02164953e-01],\n",
       "        [ 1.13446285e-01, -1.06341082e-02,  9.01359975e-02],\n",
       "        [-4.96570799e-01, -2.05343570e-01,  3.03310131e-01],\n",
       "        [-7.11904773e-02, -2.86445393e-03, -2.36979930e-01],\n",
       "        [-5.80999691e-02,  2.14629260e-01, -4.62144065e-02],\n",
       "        [-2.00589957e-01,  2.27753324e-01, -5.71813038e-02],\n",
       "        [-5.68208784e-02, -2.59831037e-01, -2.01599733e-01],\n",
       "        [-2.60616985e-02, -9.00774470e-02,  6.34641768e-02],\n",
       "        [ 1.90011059e-01,  2.16376425e-02, -1.25127145e-01],\n",
       "        [ 1.35439766e-01,  1.18045217e-01,  7.89127009e-02],\n",
       "        [-3.27117191e-02, -2.10973525e-03,  8.70175536e-02],\n",
       "        [-1.48518479e-01,  4.25433456e-02,  2.08184469e-01],\n",
       "        [-2.27432993e-01, -1.79729355e-01,  3.43692642e-01],\n",
       "        [ 5.32548238e-02,  1.71075042e-01, -6.48939458e-02],\n",
       "        [ 2.45357178e-01, -1.21581828e-01, -4.92951272e-02],\n",
       "        [ 8.22465315e-02,  1.60619554e-01,  2.25639694e-01],\n",
       "        [ 1.17694085e-01,  1.58218219e-01, -1.86029277e-01],\n",
       "        [ 4.86267072e-02,  3.82884803e-02, -6.69176315e-02],\n",
       "        [ 4.35724886e-02,  6.06205814e-02,  1.48311127e-01],\n",
       "        [-2.33687313e-01,  5.98562602e-02,  1.66400971e-02],\n",
       "        [ 1.24004599e-01, -4.94030534e-01,  1.99289536e-01],\n",
       "        [-7.59923450e-03,  6.48463905e-02, -3.75699569e-01],\n",
       "        [-1.76490846e-01,  5.07307635e-01, -2.71205032e-01],\n",
       "        [-5.50161612e-02,  2.46627587e-01,  8.12655750e-02],\n",
       "        [ 2.50840138e-01, -1.42040601e-01, -4.10063842e-01],\n",
       "        [ 9.89410188e-02,  4.25717937e-02,  1.66406456e-01],\n",
       "        [-2.42530994e-01,  2.84648717e-02,  1.08365892e-01],\n",
       "        [ 3.69281158e-02, -5.22045108e-04, -1.49581015e-02],\n",
       "        [-1.88085615e-01,  2.05384694e-01, -2.73513379e-01],\n",
       "        [ 4.70190658e-01,  6.05415784e-02, -2.89701615e-01],\n",
       "        [ 9.83082091e-02, -3.27506759e-02,  5.10464533e-02],\n",
       "        [ 1.44197492e-01,  1.17335858e-01,  1.55538965e-01],\n",
       "        [-3.63818788e-03,  5.95449578e-02, -1.88392086e-02],\n",
       "        [-1.66436523e-01,  2.78254358e-01, -1.04767082e-01],\n",
       "        [ 8.33993456e-04,  1.10860835e-01,  6.13493902e-02],\n",
       "        [-1.88622726e-02, -2.80342489e-01,  2.46183420e-01],\n",
       "        [-3.40309893e-01,  2.41548228e-02,  1.32549775e-01],\n",
       "        [-1.91029763e-01, -6.31395989e-02, -6.47882368e-03],\n",
       "        [ 1.06434350e-01, -3.44296128e-01, -3.02979740e-01],\n",
       "        [-1.24563902e-01,  1.75616615e-01, -3.41478751e-01],\n",
       "        [-1.60167700e-01, -4.72377704e-01, -6.55482465e-02],\n",
       "        [ 9.90440386e-02, -1.69214570e-01, -4.76565757e-02],\n",
       "        [-1.19632359e-01, -2.51746717e-01,  2.22185678e-01],\n",
       "        [ 2.43196311e-01, -1.35971082e-01, -2.32375793e-01],\n",
       "        [ 1.30466086e-01,  4.28878181e-02,  1.71611490e-01],\n",
       "        [ 2.59580072e-01, -3.22202565e-01, -1.00092167e-01],\n",
       "        [ 9.94990480e-02, -2.75681255e-01, -1.59380531e-01],\n",
       "        [ 2.92971888e-01, -1.28997300e-01,  1.06555188e-01],\n",
       "        [ 1.38544152e-01, -1.19144442e-01,  2.68214897e-01],\n",
       "        [ 1.37606256e-01,  2.55978597e-03, -2.44802511e-01],\n",
       "        [ 2.97301100e-01, -2.15157143e-01, -1.19373015e-01],\n",
       "        [-7.52601475e-02, -2.91987615e-02, -7.84790659e-03],\n",
       "        [ 2.05722911e-02, -9.84298714e-02,  2.28013719e-01],\n",
       "        [-2.06301805e-01, -8.04102455e-02,  3.84346382e-02],\n",
       "        [-2.75211993e-01,  1.10508797e-01, -6.35237843e-02],\n",
       "        [-3.67201044e-01, -4.72647710e-01,  3.33657352e-01],\n",
       "        [ 5.69573772e-02, -1.65134495e-01, -3.55211460e-02],\n",
       "        [-1.45817476e-01, -3.22323890e-03, -2.39774678e-02],\n",
       "        [ 8.62429286e-02, -3.80622323e-01,  3.96100209e-01],\n",
       "        [-1.34335432e-01, -7.08918798e-02,  1.47697848e-01],\n",
       "        [-2.68135629e-01, -4.34250607e-01,  3.70053120e-01],\n",
       "        [-7.31279551e-02,  7.20548958e-02,  5.45646187e-02],\n",
       "        [ 1.46838388e-02, -1.04569683e-01,  9.35641403e-03],\n",
       "        [ 5.88751230e-02,  1.69706239e-01, -2.00985877e-01],\n",
       "        [ 1.32224693e-02, -9.40599565e-02,  2.42604415e-01],\n",
       "        [ 7.46706313e-02, -1.82590701e-01,  1.19496058e-01],\n",
       "        [ 2.58892180e-01, -1.03538047e-01,  2.84385455e-02],\n",
       "        [ 3.30068834e-02, -1.34406283e-01,  7.60700262e-02],\n",
       "        [-3.12291230e-01,  1.25051262e-01,  3.19945087e-01],\n",
       "        [ 3.13075435e-01, -9.65931898e-02, -1.75943308e-01],\n",
       "        [ 5.46871617e-02,  3.00548479e-01,  1.65757068e-02],\n",
       "        [ 1.21972400e-01, -1.00159963e-01,  2.49147689e-01],\n",
       "        [-1.93236917e-01, -2.22143647e-01, -1.96506215e-02],\n",
       "        [-1.22291608e-01,  6.67558685e-02, -1.89159286e-02],\n",
       "        [ 2.57348890e-02, -3.36455713e-01,  5.16383986e-01],\n",
       "        [-3.31700976e-02, -1.20814826e-01,  1.46654075e-01],\n",
       "        [ 7.48519804e-02, -2.97852925e-02, -2.19837878e-01],\n",
       "        [-1.80894334e-01,  2.91879174e-01, -1.99966726e-01],\n",
       "        [-5.35767709e-03, -6.51495992e-03, -7.05089998e-02],\n",
       "        [-3.68883146e-01, -1.02561421e-02,  4.84428555e-01],\n",
       "        [-2.01355811e-01, -1.30617615e-02,  3.71869256e-02],\n",
       "        [ 4.92228834e-02, -1.05364828e-01, -5.22380770e-02],\n",
       "        [ 2.59254650e-01,  1.14829434e-01, -5.47022630e-01],\n",
       "        [-1.73680845e-02,  1.93059735e-01, -1.71147388e-01],\n",
       "        [-3.36053280e-01,  2.01071197e-01,  8.71789270e-02],\n",
       "        [ 4.55683158e-01, -1.03786313e-01,  5.37105717e-02],\n",
       "        [-5.01289820e-02, -2.48255298e-03, -3.11517170e-01],\n",
       "        [-2.88776380e-01,  2.59827227e-01,  1.06030458e-01],\n",
       "        [-6.91884390e-02,  2.57206043e-02,  7.14700007e-02],\n",
       "        [-1.53612110e-01,  5.11819565e-01, -3.44927514e-01],\n",
       "        [-9.19993179e-02, -2.18083180e-01,  1.10446630e-01],\n",
       "        [-3.71738580e-02,  1.29036715e-01, -5.02911374e-02],\n",
       "        [-2.46815996e-02,  2.62638842e-02, -2.25515978e-02],\n",
       "        [-1.80784208e-01,  6.57141631e-03,  3.47262822e-01],\n",
       "        [ 2.54353130e-01,  1.11466366e-01,  1.00093530e-01],\n",
       "        [-4.04846789e-01,  3.87862618e-01, -1.04709618e-01],\n",
       "        [-2.15671362e-01,  3.13305821e-01, -1.53224264e-02],\n",
       "        [ 2.50856527e-01, -2.63766306e-01, -1.24005702e-01],\n",
       "        [-1.37300265e-01, -1.70664287e-01,  8.03982530e-02],\n",
       "        [ 3.51561004e-01, -2.26122976e-01, -2.08771239e-01],\n",
       "        [-1.28717313e-01,  2.58480959e-01,  5.77829403e-02],\n",
       "        [-9.27983137e-02, -8.83094241e-02,  5.84199630e-02],\n",
       "        [ 2.78974649e-01,  1.94957985e-01, -3.14664890e-01],\n",
       "        [ 5.51241904e-02, -7.92786609e-02, -8.25473269e-02],\n",
       "        [-3.29368607e-01, -1.99439103e-01, -3.17926167e-02]]),\n",
       " 'b_out': array([[0.09426238, 0.00282568, 0.0253353 ]])}"
      ]
     },
     "execution_count": 141,
     "metadata": {},
     "output_type": "execute_result"
    }
   ],
   "source": [
    "model._params"
   ]
  },
  {
   "cell_type": "code",
   "execution_count": null,
   "metadata": {},
   "outputs": [],
   "source": []
  }
 ],
 "metadata": {
  "kernelspec": {
   "display_name": "Python 3",
   "language": "python",
   "name": "python3"
  },
  "language_info": {
   "codemirror_mode": {
    "name": "ipython",
    "version": 3
   },
   "file_extension": ".py",
   "mimetype": "text/x-python",
   "name": "python",
   "nbconvert_exporter": "python",
   "pygments_lexer": "ipython3",
   "version": "3.8.2"
  }
 },
 "nbformat": 4,
 "nbformat_minor": 4
}
