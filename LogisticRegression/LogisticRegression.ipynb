{
 "cells": [
  {
   "cell_type": "code",
   "execution_count": 1,
   "metadata": {},
   "outputs": [],
   "source": [
    "import numpy as np\n",
    "import matplotlib.pyplot as plt\n",
    "from mlxtend.plotting import plot_decision_regions\n",
    "\n",
    "from sklearn.metrics import accuracy_score\n",
    "from sklearn.datasets import load_iris\n",
    "from sklearn.model_selection import train_test_split"
   ]
  },
  {
   "cell_type": "code",
   "execution_count": 2,
   "metadata": {},
   "outputs": [],
   "source": [
    "X, y = load_iris(return_X_y=True)\n",
    "X, y = X[:100, [0, 2]], y[:100]\n",
    "X_train, X_test, y_train, y_test = train_test_split(X, y, test_size=0.3, stratify=y)"
   ]
  },
  {
   "cell_type": "markdown",
   "metadata": {},
   "source": [
    "# How algorithm works?"
   ]
  },
  {
   "cell_type": "markdown",
   "metadata": {},
   "source": [
    "Logistic regression is classification algorithm. In basic version it's a binary classification."
   ]
  },
  {
   "cell_type": "markdown",
   "metadata": {},
   "source": [
    "First of all, we are predicting full net input, using standard formula."
   ]
  },
  {
   "cell_type": "markdown",
   "metadata": {},
   "source": [
    "![](img/f1.bmp)"
   ]
  },
  {
   "cell_type": "markdown",
   "metadata": {},
   "source": [
    "Algorithm is called regression, because we are predicting PROBABILITY that class belongs to certain class. \n",
    "Probability is predicted using sigmoid function."
   ]
  },
  {
   "cell_type": "markdown",
   "metadata": {},
   "source": [
    "![](img/f2.bmp)"
   ]
  },
  {
   "cell_type": "markdown",
   "metadata": {},
   "source": [
    "![](img/sigmoid.png)"
   ]
  },
  {
   "cell_type": "markdown",
   "metadata": {},
   "source": [
    "# Update rules"
   ]
  },
  {
   "cell_type": "markdown",
   "metadata": {},
   "source": [
    "Algorithm adjust weights using following rule."
   ]
  },
  {
   "cell_type": "markdown",
   "metadata": {},
   "source": [
    "   ![](img/f5.bmp)"
   ]
  },
  {
   "cell_type": "markdown",
   "metadata": {},
   "source": [
    "# Cost function"
   ]
  },
  {
   "cell_type": "markdown",
   "metadata": {},
   "source": [
    "In algorithm, we want to minimize cost function (crossed-entropy)."
   ]
  },
  {
   "cell_type": "markdown",
   "metadata": {},
   "source": [
    "![](img/f3.bmp)"
   ]
  },
  {
   "cell_type": "markdown",
   "metadata": {},
   "source": [
    "Derivatives of cost function with respect to wj and b."
   ]
  },
  {
   "cell_type": "markdown",
   "metadata": {},
   "source": [
    "![](img/f4.bmp)"
   ]
  },
  {
   "cell_type": "markdown",
   "metadata": {},
   "source": [
    "# Algorithm"
   ]
  },
  {
   "cell_type": "markdown",
   "metadata": {},
   "source": [
    "Algorithm steps:\n",
    "1. Initialize random, non-zero weights\n",
    "2. For each iteration:\n",
    "- predict probablility \n",
    "- calculate gradients\n",
    "- adjust weight"
   ]
  },
  {
   "cell_type": "markdown",
   "metadata": {},
   "source": [
    "# Implementation"
   ]
  },
  {
   "cell_type": "code",
   "execution_count": 3,
   "metadata": {},
   "outputs": [],
   "source": [
    "class LogisticRegression:\n",
    "    \"\"\"\n",
    "    Logistic Regression Classifier\n",
    "    \n",
    "    Attributes\n",
    "    ----------------\n",
    "    eta : float\n",
    "        learning rate\n",
    "    n_iters : int\n",
    "        number of epochs to train model\n",
    "    w : one-dimensional array\n",
    "        vector of weights [n_features, ]\n",
    "    b : float\n",
    "        bias of the model\n",
    "        \n",
    "    Methods\n",
    "    -----------------\n",
    "    fit(X, y)\n",
    "        fits classifier to data\n",
    "    predict(X)\n",
    "        predict classes for samples in matrix X\n",
    "    predict_proba(X)\n",
    "        predict probability that sample belongs to class 1\n",
    "    __net_input(X)\n",
    "        calculate full net input\n",
    "    __activation(X)\n",
    "        sigmoid activation function\n",
    "    __cost_function(y, pred_proba)\n",
    "        binary cross-entropy cost function\n",
    "    \"\"\" \n",
    "    \n",
    "    def __init__(self, eta=0.01, n_iters=10):\n",
    "        self.eta = eta\n",
    "        self.n_iters = n_iters\n",
    "        self.w = None\n",
    "        self.b = None\n",
    "    \n",
    "    def fit(self, X, y):\n",
    "        n_samples, n_features = X.shape\n",
    "        # initialize weights\n",
    "        self.w = np.random.sample(n_features)\n",
    "        self.b = np.random.sample()\n",
    "        cost_ = []\n",
    "        for i in range(self.n_iters):\n",
    "            # predict probabilities for classes\n",
    "            y_pred = self.predict_proba(X)\n",
    "            # calculate cost function\n",
    "            cost = self.__cost_function(y, y_pred)\n",
    "            cost_.append(cost)\n",
    "            # calculate error [for probabilities]\n",
    "            error = (y_pred - y)\n",
    "            # update weights\n",
    "            self.w -= self.eta * np.dot(X.T, error) / n_samples\n",
    "            self.b -= self.eta * error.mean()\n",
    "        return cost_\n",
    "    \n",
    "    def predict(self, X):\n",
    "        # predict classes\n",
    "        probas = self.predict_proba(X)\n",
    "        return np.where(probas >= 0.5, 1, 0)\n",
    "    \n",
    "    def predict_proba(self, X):\n",
    "        # predict probabilities\n",
    "        z = self.__net_input(X)\n",
    "        return self.__activation(z)\n",
    "    \n",
    "    def __net_input(self, X):\n",
    "        # full net input\n",
    "        return np.dot(X, self.w) + self.b\n",
    "    \n",
    "    def __activation(self, z):\n",
    "        # sigmoid activation function\n",
    "        return 1 / (1 + np.exp(-z))\n",
    "    \n",
    "    def __cost_function(self, y, pred_proba):\n",
    "        # cost function\n",
    "        return (- y * np.log(pred_proba) - (1 - y) * np.log(1 - pred_proba)).mean()"
   ]
  },
  {
   "cell_type": "markdown",
   "metadata": {},
   "source": [
    "# Training Classifier"
   ]
  },
  {
   "cell_type": "code",
   "execution_count": 4,
   "metadata": {},
   "outputs": [],
   "source": [
    "epochs = 100\n",
    "lr = LogisticRegression(eta=0.1, n_iters=epochs)\n",
    "cost = lr.fit(X_train, y_train)"
   ]
  },
  {
   "cell_type": "code",
   "execution_count": 5,
   "metadata": {},
   "outputs": [
    {
     "data": {
      "image/png": "[encoded data removed]",
      "text/plain": [
       "<Figure size 432x288 with 1 Axes>"
      ]
     },
     "metadata": {
      "needs_background": "light"
     },
     "output_type": "display_data"
    }
   ],
   "source": [
    "plt.plot(np.arange(0, epochs), cost)\n",
    "plt.show()"
   ]
  },
  {
   "cell_type": "markdown",
   "metadata": {},
   "source": [
    "# Validate Classifier"
   ]
  },
  {
   "cell_type": "code",
   "execution_count": 6,
   "metadata": {},
   "outputs": [
    {
     "name": "stdout",
     "output_type": "stream",
     "text": [
      "Accuracy on test set: 1.0\n"
     ]
    }
   ],
   "source": [
    "y_pred = lr.predict(X_test)\n",
    "print(f'Accuracy on test set: {accuracy_score(y_test, y_pred)}')"
   ]
  },
  {
   "cell_type": "code",
   "execution_count": 7,
   "metadata": {},
   "outputs": [
    {
     "data": {
      "image/png": "[encoded data removed]",
      "text/plain": [
       "<Figure size 432x288 with 1 Axes>"
      ]
     },
     "metadata": {
      "needs_background": "light"
     },
     "output_type": "display_data"
    }
   ],
   "source": [
    "plot_decision_regions(X, y, clf=lr, legend=2)\n",
    "plt.show()"
   ]
  }
 ],
 "metadata": {
  "kernelspec": {
   "display_name": "Python 3",
   "language": "python",
   "name": "python3"
  },
  "language_info": {
   "codemirror_mode": {
    "name": "ipython",
    "version": 3
   },
   "file_extension": ".py",
   "mimetype": "text/x-python",
   "name": "python",
   "nbconvert_exporter": "python",
   "pygments_lexer": "ipython3",
   "version": "3.8.2"
  }
 },
 "nbformat": 4,
 "nbformat_minor": 4
}
