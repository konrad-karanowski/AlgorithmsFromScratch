{
 "cells": [
  {
   "cell_type": "code",
   "execution_count": 1,
   "metadata": {},
   "outputs": [],
   "source": [
    "import numpy as np\n",
    "import matplotlib.pyplot as plt\n",
    "from mlxtend.plotting import plot_decision_regions\n",
    "\n",
    "from sklearn.metrics import accuracy_score\n",
    "from sklearn.datasets import load_iris\n",
    "from sklearn.model_selection import train_test_split"
   ]
  },
  {
   "cell_type": "code",
   "execution_count": 2,
   "metadata": {},
   "outputs": [],
   "source": [
    "X, y = load_iris(return_X_y=True)\n",
    "X = X[:, [0, 2]]\n",
    "X_train, X_test, y_train, y_test = train_test_split(X, y, test_size=0.3, stratify=y)"
   ]
  },
  {
   "cell_type": "markdown",
   "metadata": {},
   "source": [
    "# Implementation"
   ]
  },
  {
   "cell_type": "code",
   "execution_count": 3,
   "metadata": {},
   "outputs": [],
   "source": [
    "class KNN:\n",
    "    \"\"\"\n",
    "    K- Nearest Neighbors\n",
    "    \n",
    "    Attributes\n",
    "    ----------------\n",
    "    n_neighbors : int\n",
    "        number of neighbors to vote\n",
    "    X : np.ndarray\n",
    "        matrix of training data\n",
    "    y : np.ndarray\n",
    "        vector of training classes\n",
    "        \n",
    "    Methods\n",
    "    -----------------\n",
    "    fit(X, y)\n",
    "        fits classifier to data\n",
    "    predict(X)\n",
    "        predict classes for samples in matrix X\n",
    "    __predict(xi)\n",
    "        predict class for single vector xi\n",
    "    __distance(x1, x2)\n",
    "        calculate Euclidean distance between two points x1 and x2\n",
    "    __majority_vote(labels)\n",
    "        predict class of given points using majority vote\n",
    "    \"\"\"\n",
    "    \n",
    "    def __init__(self, n_neighbors=5):\n",
    "        self.n_neighbors = n_neighbors\n",
    "    \n",
    "    def fit(self, X, y):\n",
    "        self.data = X\n",
    "        self.labels = y\n",
    "    \n",
    "    def predict(self, X):\n",
    "        # predict classes for samples\n",
    "        return np.array([self.__predict(xi) for xi in X])\n",
    "    \n",
    "    def __predict(self, xi):\n",
    "        # predict class for vector xi\n",
    "        # calculate distances\n",
    "        distances = [self.__distance(xi, xi_data) for xi_data in self.data]\n",
    "        # get k neighbors\n",
    "        neighbors = np.argsort(distances)[:self.n_neighbors]\n",
    "        # get labels of neighbors\n",
    "        labels = self.labels[neighbors]\n",
    "        # count using majority vote\n",
    "        return self.__majority_vote(labels)\n",
    "    \n",
    "    def __distance(self, x1, x2):\n",
    "        # calculate euclidean distance\n",
    "        return np.sqrt(np.sum(np.power(x1 - x2, 2)))\n",
    "    \n",
    "    def __majority_vote(self, labels):\n",
    "        # majority vote to predict class\n",
    "        values, counts = np.unique(labels, return_counts=True)\n",
    "        idx = np.argmax(counts)\n",
    "        return values[idx]"
   ]
  },
  {
   "cell_type": "markdown",
   "metadata": {},
   "source": [
    "# Training Classifier"
   ]
  },
  {
   "cell_type": "code",
   "execution_count": 4,
   "metadata": {},
   "outputs": [],
   "source": [
    "knn = KNN()\n",
    "knn.fit(X_train, y_train)"
   ]
  },
  {
   "cell_type": "markdown",
   "metadata": {},
   "source": [
    "# Validate Classifier"
   ]
  },
  {
   "cell_type": "code",
   "execution_count": 5,
   "metadata": {},
   "outputs": [
    {
     "name": "stdout",
     "output_type": "stream",
     "text": [
      "Accuracy on test set: 0.9111111111111111\n"
     ]
    }
   ],
   "source": [
    "y_pred = knn.predict(X_test)\n",
    "print(f'Accuracy on test set: {accuracy_score(y_test, y_pred)}')"
   ]
  },
  {
   "cell_type": "code",
   "execution_count": 6,
   "metadata": {},
   "outputs": [
    {
     "data": {
      "image/png": "[encoded data removed]",
      "text/plain": [
       "<Figure size 432x288 with 1 Axes>"
      ]
     },
     "metadata": {
      "needs_background": "light"
     },
     "output_type": "display_data"
    }
   ],
   "source": [
    "plot_decision_regions(X, y, clf=knn, legend=2)\n",
    "plt.show()"
   ]
  }
 ],
 "metadata": {
  "kernelspec": {
   "display_name": "Python 3",
   "language": "python",
   "name": "python3"
  },
  "language_info": {
   "codemirror_mode": {
    "name": "ipython",
    "version": 3
   },
   "file_extension": ".py",
   "mimetype": "text/x-python",
   "name": "python",
   "nbconvert_exporter": "python",
   "pygments_lexer": "ipython3",
   "version": "3.8.2"
  }
 },
 "nbformat": 4,
 "nbformat_minor": 4
}
