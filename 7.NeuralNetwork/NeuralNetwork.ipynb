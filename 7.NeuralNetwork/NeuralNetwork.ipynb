{
 "cells": [
  {
   "cell_type": "code",
   "execution_count": 1,
   "metadata": {},
   "outputs": [],
   "source": [
    "import numpy as np\n",
    "import matplotlib.pyplot as plt\n",
    "from mlxtend.plotting import plot_decision_regions\n",
    "\n",
    "\n",
    "from sklearn.datasets import make_moons\n",
    "from sklearn.model_selection import train_test_split"
   ]
  },
  {
   "cell_type": "code",
   "execution_count": 2,
   "metadata": {},
   "outputs": [],
   "source": [
    "X, y = make_moons(n_samples=500, noise=0.1)"
   ]
  },
  {
   "cell_type": "code",
   "execution_count": 3,
   "metadata": {},
   "outputs": [
    {
     "data": {
      "image/png": "[encoded data removed]",
      "text/plain": [
       "<Figure size 432x288 with 1 Axes>"
      ]
     },
     "metadata": {
      "needs_background": "light"
     },
     "output_type": "display_data"
    }
   ],
   "source": [
    "for i in range(len(np.unique(y))):\n",
    "    plt.scatter(X[:, 0][y == i], X[:, 1][y == i])\n",
    "plt.show()"
   ]
  },
  {
   "cell_type": "code",
   "execution_count": 4,
   "metadata": {},
   "outputs": [],
   "source": [
    "def encode_y(y: np.ndarray) -> np.ndarray:\n",
    "    n = np.max(y) + 1\n",
    "    m = y.shape[0]\n",
    "    y_encoded = np.zeros((m, n))\n",
    "    for i, y_ in enumerate(y):\n",
    "        y_encoded[i, y_] = 1\n",
    "    return y_encoded"
   ]
  },
  {
   "cell_type": "code",
   "execution_count": 5,
   "metadata": {},
   "outputs": [],
   "source": [
    "y_encoded = encode_y(y)"
   ]
  },
  {
   "cell_type": "code",
   "execution_count": 6,
   "metadata": {},
   "outputs": [],
   "source": [
    "X_train, X_test, y_train, y_test = train_test_split(X, y_encoded, test_size=0.3, stratify=y)"
   ]
  },
  {
   "cell_type": "markdown",
   "metadata": {},
   "source": [
    "# Helper functions"
   ]
  },
  {
   "cell_type": "code",
   "execution_count": 7,
   "metadata": {},
   "outputs": [],
   "source": [
    "def ReLU(x: np.ndarray):\n",
    "    return np.maximum(0, x)\n",
    "\n",
    "def dReLU(x: np.ndarray):\n",
    "    return np.where(x > 0, 1, 0)\n",
    "\n",
    "def softmax(x: np.ndarray):\n",
    "    e_x = np.exp(x - np.max(x))\n",
    "    return e_x / np.sum(e_x, axis=1, keepdims=True)\n",
    "\n",
    "def categorical_crossentropy(y_pred: np.ndarray, y_true: np.ndarray):\n",
    "    return - np.sum(y_pred * np.log(y_true + 1e-9), axis=1)"
   ]
  },
  {
   "cell_type": "markdown",
   "metadata": {},
   "source": [
    "# Implementation"
   ]
  },
  {
   "cell_type": "code",
   "execution_count": 8,
   "metadata": {},
   "outputs": [],
   "source": [
    "class NeuralNetwork:\n",
    "    \"\"\"\n",
    "    Standard multi-layer neural network using ReLU and softmax as activation functions\n",
    "    and categorical cross-entropy as cost function.\n",
    "    \n",
    "    Attributes\n",
    "    ----------------\n",
    "    _params: dict\n",
    "        dictionary of all model parameters w = {w0, w1, ..., wn} \n",
    "        and b = {b0, b1, ..., bn}\n",
    "    _grads : dict\n",
    "        gradients for weights and biases to update parameters\n",
    "    _cache : dict\n",
    "        dictionary of all model outputs, to calculate gradients\n",
    "        \n",
    "    Methods\n",
    "    -----------------\n",
    "    fit(X, y, epochs, eta, batch_size)\n",
    "        train neural network using stochastic gradient descent and batch-training\n",
    "    predict(X)\n",
    "        predict result using pretrained parameters\n",
    "    __predict(x)\n",
    "        predict result for one sample x\n",
    "    __initialize parameters(input_size, units)\n",
    "        initialize all model parameters\n",
    "    __initialize_weights(input_size, output_size)\n",
    "        initialize weights for one layer using kaiming method\n",
    "    __get_batches(X, y, batch_size)\n",
    "        generate batches for batch training\n",
    "    __forward(x, with_grad)\n",
    "        forward propagation, if with_grad, remember outputs \n",
    "    __linear_forward(x, w, b)\n",
    "        calculate linear forward\n",
    "    __backward(y_pred, y_true, eta)\n",
    "        perform backpropagation\n",
    "    __calculate_gradients(y_pred, y_true)\n",
    "        calculate gradients using output of network, real class and caches\n",
    "    __update_weights(eta)\n",
    "        update weights using stochastic gradient method\n",
    "    __calculate_cost(y_pred, y_true)\n",
    "        calculate cost in current epoch\n",
    "    __zero_grad()\n",
    "        clear gradients and caches\n",
    "    \"\"\"\n",
    "    \n",
    "    def __init__(self, input_size: int, output_size: int, units: list or None = None):\n",
    "        # parameters of the model\n",
    "        self._params = dict()\n",
    "        # gradients in the epoch\n",
    "        self._grads = dict()\n",
    "        # history of outputs, to calculate gradients\n",
    "        self._cache = dict()\n",
    "        # initialize all parameters\n",
    "        if units:\n",
    "            layers = [*units, output_size]\n",
    "        else:\n",
    "            layers = [output_size]\n",
    "        self.__initialize_parameters(input_size, layers)\n",
    "    \n",
    "    def fit(self, X: np.ndarray, y: np.ndarray, epochs: int, eta: float = 0.001, batch_size: int = 1):\n",
    "        \"\"\"\n",
    "        Train neural net using stochastic gradient descent\n",
    "        \"\"\"\n",
    "        loss = []\n",
    "        for i in range(epochs):\n",
    "            loss_epoch = []\n",
    "            for x, y_true in self.__get_batches(X, y, batch_size):\n",
    "                preds = self.__forward(x)\n",
    "                loss_epoch.append(self.__calculate_cost(preds, y_true))\n",
    "                self.__backward(preds, y_true, eta)\n",
    "            loss.append(np.mean(loss_epoch))\n",
    "        return loss\n",
    "                    \n",
    "                \n",
    "    def predict(self, X: np.ndarray):\n",
    "        \"\"\"\n",
    "        Predict for all samples\n",
    "        \"\"\"\n",
    "        return np.array([self.__predict(x) for x in X])\n",
    "    \n",
    "    \n",
    "    def __predict(self, x: np.ndarray):\n",
    "        \"\"\"\n",
    "        Predict for one sample \n",
    "        \"\"\"\n",
    "        return np.argmax(self.__forward(x, with_grad=False))\n",
    "    \n",
    "        \n",
    "    def __initialize_parameters(self, input_size: int, units: int):\n",
    "        \"\"\"\n",
    "        Initialize all parameters\n",
    "        \"\"\"\n",
    "        input_ = input_size\n",
    "        for i, n_units in enumerate(units):\n",
    "            w, b = self.__initialize_weights(input_, n_units)\n",
    "            self._params[f'w_{i}'] = w\n",
    "            self._params[f'b_{i}'] = b\n",
    "            input_ = n_units\n",
    "    \n",
    "    def __initialize_weights(self, input_size: int, output_size: int):\n",
    "        \"\"\"\n",
    "        Initialize weights and biases with given shape\n",
    "        \"\"\"\n",
    "        w = np.random.randn(input_size, output_size) * np.sqrt(2.0 / input_size) \n",
    "        b = np.random.randn(1, output_size) * np.sqrt(2.0 / input_size)\n",
    "        return w, b\n",
    "    \n",
    "    def __get_batches(self, X: np.ndarray, y: np.ndarray, batch_size: int):\n",
    "        \"\"\"\n",
    "        Divide dataset for batches\n",
    "        \"\"\"\n",
    "        n_batches = len(y) // batch_size\n",
    "        # arange indexes\n",
    "        indexes = np.arange(0, len(y))\n",
    "        np.random.shuffle(indexes)\n",
    "        batches = np.array_split(indexes, n_batches)\n",
    "        # concatenate\n",
    "        return [(X[i], y[i]) for i in batches]\n",
    "    \n",
    "    def __forward(self, x: np.ndarray, with_grad: bool = True):\n",
    "        \"\"\"\n",
    "        Compute results using forward propagation\n",
    "        \"\"\"\n",
    "        input_ = x\n",
    "        steps = len(self._params) // 2\n",
    "        for i in range(steps):\n",
    "            if with_grad:\n",
    "                self._cache[f'x_{i}'] = input_\n",
    "            w, b = self._params[f'w_{i}'], self._params[f'b_{i}']\n",
    "            output_linear = self.__linear_forward(input_, w, b)\n",
    "            if i < steps - 1:\n",
    "                output = ReLU(output_linear)\n",
    "                input_ = output\n",
    "        output = softmax(output_linear)    \n",
    "        return output\n",
    "    \n",
    "    def __linear_forward(self, x: np.ndarray, w: np.ndarray, b: np.ndarray):\n",
    "        \"\"\"\n",
    "        Compute forward pass for one layer\n",
    "        \"\"\"\n",
    "        return np.dot(x, w) + b\n",
    "    \n",
    "    def __backward(self, y_pred: np.ndarray, y_true: np.ndarray, eta: float):\n",
    "        \"\"\"\n",
    "        Perform backpropagation\n",
    "        \"\"\"\n",
    "        self.__calculate_gradients(y_pred, y_true)\n",
    "        self.__update_weights(eta)\n",
    "        self.__zero_grad()\n",
    "    \n",
    "    def __calculate_gradients(self, y_pred: np.ndarray, y_true: np.ndarray):\n",
    "        \"\"\"\n",
    "        Calculate gradients for all weights and biases\n",
    "        \"\"\"\n",
    "        # gradient of loss and softmax\n",
    "        grad = (y_pred - y_true) \n",
    "        for i in range(len(self._params) // 2 - 1, -1, -1):\n",
    "            w = self._params[f'w_{i}']\n",
    "            x = self._cache[f'x_{i}']\n",
    "            if len(x.shape) == 1:\n",
    "                x = x.reshape(1, -1)\n",
    "            dw = np.dot(x.T, grad)\n",
    "            db = np.sum(grad)\n",
    "            self._grads[f'w_{i}'] = dw\n",
    "            self._grads[f'b_{i}'] = db\n",
    "            grad = np.dot(grad, w.T) * dReLU(x)\n",
    "    \n",
    "    def __update_weights(self, eta: float):\n",
    "        \"\"\"\n",
    "        Update parameters using stochastic gradient descent\n",
    "        \"\"\"\n",
    "        for i in range(len(self._params) // 2):\n",
    "            w, b = f'w_{i}', f'b_{i}'\n",
    "            self._params[w] -= eta * self._grads[w]\n",
    "            self._params[b] -= eta * self._grads[b]\n",
    "            \n",
    "    \n",
    "    def __calculate_cost(self, y_pred: np.ndarray, y_true: np.ndarray):\n",
    "        \"\"\"\n",
    "        Calculate cost function\n",
    "        \"\"\"\n",
    "        return categorical_crossentropy(y_pred, y_true)\n",
    "    \n",
    "    def __zero_grad(self):\n",
    "        \"\"\"\n",
    "        Clear the gradients and memory\n",
    "        \"\"\"\n",
    "        self._cache.clear()\n",
    "        self._grads.clear()"
   ]
  },
  {
   "cell_type": "markdown",
   "metadata": {},
   "source": [
    "# Train model"
   ]
  },
  {
   "cell_type": "code",
   "execution_count": 9,
   "metadata": {},
   "outputs": [],
   "source": [
    "# input_size = n_features, output_size = n_classes\n",
    "n_features = 2\n",
    "n_classes = 2\n",
    "model = NeuralNetwork(input_size=n_features, output_size=n_classes, units=[28, 44, 28])"
   ]
  },
  {
   "cell_type": "code",
   "execution_count": 10,
   "metadata": {},
   "outputs": [],
   "source": [
    "loss = model.fit(X_train, y_train, epochs=1000, eta=0.001, batch_size=2)"
   ]
  },
  {
   "cell_type": "markdown",
   "metadata": {},
   "source": [
    "# Visualize results"
   ]
  },
  {
   "cell_type": "code",
   "execution_count": 11,
   "metadata": {},
   "outputs": [
    {
     "data": {
      "image/png": "[encoded data removed]",
      "text/plain": [
       "<Figure size 432x288 with 1 Axes>"
      ]
     },
     "metadata": {
      "needs_background": "light"
     },
     "output_type": "display_data"
    }
   ],
   "source": [
    "plt.plot(range(len(loss)), loss)\n",
    "plt.show()"
   ]
  },
  {
   "cell_type": "code",
   "execution_count": 12,
   "metadata": {},
   "outputs": [],
   "source": [
    "def accuracy(y_true, pred):\n",
    "    i = 0\n",
    "    j = 0\n",
    "    for pred_, y in zip(pred, y_true):\n",
    "        if np.argmax(y) == pred_:\n",
    "            i += 1\n",
    "        j += 1\n",
    "    return i / j"
   ]
  },
  {
   "cell_type": "code",
   "execution_count": 13,
   "metadata": {},
   "outputs": [
    {
     "data": {
      "text/plain": [
       "1.0"
      ]
     },
     "execution_count": 13,
     "metadata": {},
     "output_type": "execute_result"
    }
   ],
   "source": [
    "pred = model.predict(X_test)\n",
    "accuracy(y_test, pred)"
   ]
  },
  {
   "cell_type": "code",
   "execution_count": 14,
   "metadata": {},
   "outputs": [
    {
     "data": {
      "image/png": "[encoded data removed]",
      "text/plain": [
       "<Figure size 432x288 with 1 Axes>"
      ]
     },
     "metadata": {
      "needs_background": "light"
     },
     "output_type": "display_data"
    }
   ],
   "source": [
    "plot_decision_regions(X, y, model)\n",
    "plt.show()"
   ]
  }
 ],
 "metadata": {
  "kernelspec": {
   "display_name": "Python 3",
   "language": "python",
   "name": "python3"
  },
  "language_info": {
   "codemirror_mode": {
    "name": "ipython",
    "version": 3
   },
   "file_extension": ".py",
   "mimetype": "text/x-python",
   "name": "python",
   "nbconvert_exporter": "python",
   "pygments_lexer": "ipython3",
   "version": "3.8.2"
  }
 },
 "nbformat": 4,
 "nbformat_minor": 4
}
