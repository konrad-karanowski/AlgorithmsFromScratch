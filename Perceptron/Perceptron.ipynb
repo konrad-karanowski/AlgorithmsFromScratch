{
 "cells": [
  {
   "cell_type": "code",
   "execution_count": 1,
   "metadata": {},
   "outputs": [],
   "source": [
    "import numpy as np\n",
    "import matplotlib.pyplot as plt\n",
    "\n",
    "from sklearn.metrics import accuracy_score\n",
    "from sklearn.datasets import load_iris\n",
    "from sklearn.model_selection import train_test_split"
   ]
  },
  {
   "cell_type": "code",
   "execution_count": 2,
   "metadata": {},
   "outputs": [],
   "source": [
    "X, y = load_iris(return_X_y=True)\n",
    "X_train, X_test, y_train, y_test = train_test_split(X[:100, :], y[:100], test_size=0.3)"
   ]
  },
  {
   "cell_type": "markdown",
   "metadata": {},
   "source": [
    "# Perceptron idea"
   ]
  },
  {
   "cell_type": "markdown",
   "metadata": {},
   "source": [
    "Perceptron was invented in 1957 by Frank Rosenblatt"
   ]
  },
  {
   "cell_type": "markdown",
   "metadata": {},
   "source": [
    "![](img/f4.png)"
   ]
  },
  {
   "cell_type": "markdown",
   "metadata": {},
   "source": [
    "Full-net input is calculated using"
   ]
  },
  {
   "cell_type": "markdown",
   "metadata": {},
   "source": [
    "![](img/f1.bmp)"
   ]
  },
  {
   "cell_type": "markdown",
   "metadata": {},
   "source": [
    "As activation function, we use Heaviside step-function"
   ]
  },
  {
   "cell_type": "markdown",
   "metadata": {},
   "source": [
    "  ![](img/f3.gif)"
   ]
  },
  {
   "cell_type": "markdown",
   "metadata": {},
   "source": [
    "Weights are update using rules"
   ]
  },
  {
   "cell_type": "markdown",
   "metadata": {},
   "source": [
    "![](img/f2.bmp)"
   ]
  },
  {
   "cell_type": "markdown",
   "metadata": {},
   "source": [
    "# Algorithm"
   ]
  },
  {
   "cell_type": "markdown",
   "metadata": {},
   "source": [
    "Algorithm steps:\n",
    "1. Initialize random, non-zero weights\n",
    "2. For each iteration:\n",
    "- predict value\n",
    "- adjust weight"
   ]
  },
  {
   "cell_type": "markdown",
   "metadata": {},
   "source": [
    "# Implementation"
   ]
  },
  {
   "cell_type": "code",
   "execution_count": 3,
   "metadata": {},
   "outputs": [],
   "source": [
    "class Perceptron:\n",
    "    \"\"\"\n",
    "    Rosenblatt's Perceptron\n",
    "    \n",
    "    Attributes\n",
    "    ----------------\n",
    "    eta : float\n",
    "        learning rate\n",
    "    n_iters : int\n",
    "        number of epochs to train model\n",
    "    w : one-dimensional array\n",
    "        vector of weights [n_features, ]\n",
    "    b : float\n",
    "        bias of the model\n",
    "        \n",
    "    Methods\n",
    "    -----------------\n",
    "    fit(X, y)\n",
    "        fits classifier to data\n",
    "    predict(X)\n",
    "        predict classes for samples in matrix X\n",
    "    __net_input(X)\n",
    "        calculate full net input\n",
    "    \"\"\"\n",
    "    \n",
    "    def __init__(self, eta=0.01, n_iters=10):\n",
    "        self.eta = eta\n",
    "        self.n_iters = n_iters\n",
    "        self.w = None\n",
    "        self.b = None\n",
    "    \n",
    "    def fit(self, X, y):\n",
    "        n_samples, n_features = X.shape\n",
    "        # initialize weights\n",
    "        self.w = np.random.sample(n_features)\n",
    "        self.b = np.random.sample()\n",
    "        error_ = []\n",
    "        for i in range(self.n_iters):\n",
    "            error_count = 0\n",
    "            for xi, y_true in zip(X, y):\n",
    "                # predict class\n",
    "                pred = self.predict(xi)\n",
    "                error = (pred - y_true)\n",
    "                # adjust weights\n",
    "                self.w -= self.eta * error * xi\n",
    "                self.b -= self.eta * error\n",
    "                if error == 1:\n",
    "                    error_count += 1\n",
    "            error_.append(error_count)\n",
    "        return error_\n",
    "    \n",
    "    def predict(self, X):\n",
    "        return np.where(self.__net_input(X) >= 0, 1, 0)\n",
    "\n",
    "    def __net_input(self, X):\n",
    "        return np.dot(X, self.w) + self.b"
   ]
  },
  {
   "cell_type": "markdown",
   "metadata": {},
   "source": [
    "# Training model"
   ]
  },
  {
   "cell_type": "code",
   "execution_count": 4,
   "metadata": {},
   "outputs": [],
   "source": [
    "perceptron = Perceptron()\n",
    "error = perceptron.fit(X_train, y_train)"
   ]
  },
  {
   "cell_type": "code",
   "execution_count": 5,
   "metadata": {},
   "outputs": [
    {
     "data": {
      "image/png": "[encoded data removed]",
      "text/plain": [
       "<Figure size 432x288 with 1 Axes>"
      ]
     },
     "metadata": {
      "needs_background": "light"
     },
     "output_type": "display_data"
    }
   ],
   "source": [
    "plt.plot(np.arange(0, len(error)), error)\n",
    "plt.show()"
   ]
  },
  {
   "cell_type": "markdown",
   "metadata": {},
   "source": [
    "# Validate classifier"
   ]
  },
  {
   "cell_type": "code",
   "execution_count": 6,
   "metadata": {},
   "outputs": [
    {
     "name": "stdout",
     "output_type": "stream",
     "text": [
      "Accuracy on test set: 1.0\n"
     ]
    }
   ],
   "source": [
    "pred = perceptron.predict(X_test)\n",
    "print(f'Accuracy on test set: {accuracy_score(y_test, pred)}')"
   ]
  }
 ],
 "metadata": {
  "kernelspec": {
   "display_name": "Python 3",
   "language": "python",
   "name": "python3"
  },
  "language_info": {
   "codemirror_mode": {
    "name": "ipython",
    "version": 3
   },
   "file_extension": ".py",
   "mimetype": "text/x-python",
   "name": "python",
   "nbconvert_exporter": "python",
   "pygments_lexer": "ipython3",
   "version": "3.8.2"
  }
 },
 "nbformat": 4,
 "nbformat_minor": 4
}
