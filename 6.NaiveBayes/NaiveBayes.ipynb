{
 "cells": [
  {
   "cell_type": "code",
   "execution_count": 1,
   "metadata": {},
   "outputs": [],
   "source": [
    "import numpy as np\n",
    "import matplotlib.pyplot as plt\n",
    "from mlxtend.plotting import plot_decision_regions\n",
    "\n",
    "from sklearn.metrics import accuracy_score\n",
    "from sklearn.datasets import load_iris\n",
    "from sklearn.model_selection import train_test_split"
   ]
  },
  {
   "cell_type": "code",
   "execution_count": 2,
   "metadata": {},
   "outputs": [],
   "source": [
    "X, y = load_iris(return_X_y=True)\n",
    "X = X[:, [0, 2]] \n",
    "X_train, X_test, y_train, y_test = train_test_split(X, y, test_size=0.3, stratify=y)"
   ]
  },
  {
   "cell_type": "markdown",
   "metadata": {},
   "source": [
    "# Implementation"
   ]
  },
  {
   "cell_type": "code",
   "execution_count": 3,
   "metadata": {},
   "outputs": [],
   "source": [
    "class NaiveBayesClassifier:\n",
    "    \"\"\"\n",
    "    Naive Bayes Classifier\n",
    "    \n",
    "    Attributes\n",
    "    ----------------\n",
    "    _classes : one-dimensional array\n",
    "        vector of classes\n",
    "    _means : two-dimensional array \n",
    "        matrix of means in dimensions [n_classes, n_features]\n",
    "    _vars : two-dimensional array\n",
    "        matrix of variances in dimensions [n_classes, n_features]\n",
    "    _priors : one-dimensional array\n",
    "        vector of probabilities a priori\n",
    "        \n",
    "    Methods\n",
    "    -----------------\n",
    "    fit(X, y)\n",
    "        fits classifier to data\n",
    "    predict(X)\n",
    "        predict classes for samples in matrix X\n",
    "    __predict(xi)\n",
    "        predict class for single vector xi\n",
    "    __proba_density(mean, var, xi)\n",
    "        return density of probability for mean, var and xi\n",
    "    \"\"\"\n",
    "    \n",
    "    def fit(self, X, y):\n",
    "        n_samples, n_features = X.shape\n",
    "        self._classes = np.unique(y)\n",
    "        n_classes = len(self._classes)\n",
    "        \n",
    "        # placeholders for mean, variance and priors\n",
    "        self._means = np.zeros((n_classes, n_features), dtype=np.float64)\n",
    "        self._vars = np.zeros((n_classes, n_features), dtype=np.float64)\n",
    "        self._priors = np.zeros(n_classes, dtype=np.float64)\n",
    "        \n",
    "        # 'train' algorithm\n",
    "        for i, class_ in enumerate(self._classes):\n",
    "            X_class_ = X[y == class_]\n",
    "            self._means[i, :] = X_class_.mean(axis=0)\n",
    "            self._vars[i, :] = X_class_.var(axis=0)\n",
    "            self._priors[i] = X_class_.shape[0] / float(n_samples)\n",
    "\n",
    "    \n",
    "    def predict(self, X):\n",
    "        return np.array([self.__predict(xi) for xi in X])\n",
    "    \n",
    "    def __predict(self, xi):\n",
    "        posteriors = list()\n",
    "        for i in range(len(self._classes)):\n",
    "            prior = np.log(self._priors[i])\n",
    "            mean = self._means[i]\n",
    "            var = self._vars[i]\n",
    "            likehood = np.sum(np.log(self.__proba_density(mean, var, xi)))\n",
    "            posterior = likehood + prior\n",
    "            posteriors.append(posterior)\n",
    "        return self._classes[np.argmax(posteriors)]\n",
    "            \n",
    "    \n",
    "    def __proba_density(self, mean, var, xi):\n",
    "        return (np.exp(-(xi - mean) ** 2 / (2 * var)) / np.sqrt(2 * np.pi * var))"
   ]
  },
  {
   "cell_type": "markdown",
   "metadata": {},
   "source": [
    "# Traing Classifier"
   ]
  },
  {
   "cell_type": "code",
   "execution_count": 4,
   "metadata": {},
   "outputs": [],
   "source": [
    "nb = NaiveBayesClassifier()\n",
    "nb.fit(X_train, y_train)"
   ]
  },
  {
   "cell_type": "markdown",
   "metadata": {},
   "source": [
    "# Validate classifier"
   ]
  },
  {
   "cell_type": "code",
   "execution_count": 5,
   "metadata": {},
   "outputs": [
    {
     "name": "stdout",
     "output_type": "stream",
     "text": [
      "0.8666666666666667\n"
     ]
    }
   ],
   "source": [
    "pred = nb.predict(X_test)\n",
    "print(accuracy_score(pred, y_test))"
   ]
  },
  {
   "cell_type": "code",
   "execution_count": 6,
   "metadata": {},
   "outputs": [
    {
     "data": {
      "image/png": "[encoded data removed]",
      "text/plain": [
       "<Figure size 432x288 with 1 Axes>"
      ]
     },
     "metadata": {
      "needs_background": "light"
     },
     "output_type": "display_data"
    }
   ],
   "source": [
    "plot_decision_regions(X, y, clf=nb, legend=2)\n",
    "plt.show()"
   ]
  }
 ],
 "metadata": {
  "kernelspec": {
   "display_name": "Python 3",
   "language": "python",
   "name": "python3"
  },
  "language_info": {
   "codemirror_mode": {
    "name": "ipython",
    "version": 3
   },
   "file_extension": ".py",
   "mimetype": "text/x-python",
   "name": "python",
   "nbconvert_exporter": "python",
   "pygments_lexer": "ipython3",
   "version": "3.8.2"
  }
 },
 "nbformat": 4,
 "nbformat_minor": 4
}
